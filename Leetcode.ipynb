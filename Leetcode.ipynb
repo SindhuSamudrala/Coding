{
 "cells": [
  {
   "cell_type": "code",
   "execution_count": 2,
   "metadata": {},
   "outputs": [],
   "source": [
    "from typing import List\n",
    "def coinChange(coins:List[int], amount:int) -> int:\n",
    "    min_coins = [float('inf')] * (amount + 1)\n",
    "    min_coins[0] = 0\n",
    "    for coin in coins:\n",
    "        for i in range(coin,amount+1):\n",
    "            min_coins[i] = min(min_coins[i], min_coins[i-coin]+1)\n",
    "    return min_coins[amount] if min_coins[amount] != float('inf') else -1"
   ]
  },
  {
   "cell_type": "code",
   "execution_count": 3,
   "metadata": {},
   "outputs": [],
   "source": [
    "coins = coinChange([1,2,5],11)"
   ]
  },
  {
   "cell_type": "code",
   "execution_count": 4,
   "metadata": {},
   "outputs": [
    {
     "name": "stdout",
     "output_type": "stream",
     "text": [
      "3\n"
     ]
    }
   ],
   "source": [
    "print(coins)"
   ]
  },
  {
   "cell_type": "code",
   "execution_count": 7,
   "metadata": {},
   "outputs": [],
   "source": [
    "def numFactoredBinaryTrees(arr: List[int]) -> int:\n",
    "        mod = 10 ** 9 +7\n",
    "        arr.sort()\n",
    "        length = len(arr)\n",
    "        array_set = set(arr)\n",
    "        dp = [1] * length\n",
    "        \n",
    "        numIndex = {num : i for i,num in enumerate(arr)}\n",
    "        for i in range(1,length):\n",
    "            for j in range(i):\n",
    "                if arr[i] % arr[j] == 0:\n",
    "                    num2 = arr[i] // arr[j]\n",
    "                    if num2 in array_set:\n",
    "                        index2 = numIndex[num2]\n",
    "                        dp[i] += dp[j] * dp[index2]\n",
    "        \n",
    "        return sum(dp) % mod"
   ]
  },
  {
   "cell_type": "code",
   "execution_count": 8,
   "metadata": {},
   "outputs": [],
   "source": [
    "s = numFactoredBinaryTrees([4,15,3,5])"
   ]
  },
  {
   "cell_type": "code",
   "execution_count": 9,
   "metadata": {},
   "outputs": [
    {
     "name": "stdout",
     "output_type": "stream",
     "text": [
      "6\n"
     ]
    }
   ],
   "source": [
    "print(s)"
   ]
  },
  {
   "cell_type": "code",
   "execution_count": 9,
   "metadata": {},
   "outputs": [],
   "source": [
    "def canVisitAllRooms(rooms: List[List[int]]) -> bool:\n",
    "        visited = [False] * len(rooms)\n",
    "        visited[0] = True\n",
    "        stack = [0]\n",
    "        while stack:\n",
    "            room = stack.pop()\n",
    "            for key in rooms[room]:\n",
    "                if not visited[key]:\n",
    "                    visited[key] = True\n",
    "                    stack.append(key)\n",
    "        return all(visited)"
   ]
  },
  {
   "cell_type": "code",
   "execution_count": 10,
   "metadata": {},
   "outputs": [
    {
     "data": {
      "text/plain": [
       "True"
      ]
     },
     "execution_count": 10,
     "metadata": {},
     "output_type": "execute_result"
    }
   ],
   "source": [
    "canVisitAllRooms([[1,3],[3,4],[4,5],[1,2],[5,2],[1,2]])"
   ]
  },
  {
   "cell_type": "code",
   "execution_count": 5,
   "metadata": {},
   "outputs": [],
   "source": [
    "def wordSubsets(A: List[str], B: List[str]) -> List[str]:\n",
    "        Bfreq, ans, counter = {}, [], 0\n",
    "        for word in B:\n",
    "            for char in word:\n",
    "                count = word.count(char)\n",
    "                if char in Bfreq:\n",
    "                    diff = count - Bfreq[char]\n",
    "                    if diff > 0: \n",
    "                        Bfreq[char] = count\n",
    "                        counter += diff\n",
    "                else: \n",
    "                    Bfreq[char] = count\n",
    "                    counter += count\n",
    "            if counter > 10: return ans\n",
    "        for word in A:\n",
    "            if len(word) < counter: continue\n",
    "            for char in Bfreq:\n",
    "                if word.count(char) < Bfreq[char]: break\n",
    "            else: ans.append(word)\n",
    "        return ans"
   ]
  },
  {
   "cell_type": "code",
   "execution_count": 6,
   "metadata": {},
   "outputs": [
    {
     "name": "stdout",
     "output_type": "stream",
     "text": [
      "['facebook', 'google', 'leetcode']\n"
     ]
    }
   ],
   "source": [
    "L = wordSubsets([\"amazon\",\"apple\",\"facebook\",\"google\",\"leetcode\"],\n",
    "[\"e\",\"o\"])\n",
    "print(L)"
   ]
  },
  {
   "cell_type": "code",
   "execution_count": null,
   "metadata": {},
   "outputs": [],
   "source": []
  }
 ],
 "metadata": {
  "kernelspec": {
   "display_name": "Python 3",
   "language": "python",
   "name": "python3"
  },
  "language_info": {
   "codemirror_mode": {
    "name": "ipython",
    "version": 3
   },
   "file_extension": ".py",
   "mimetype": "text/x-python",
   "name": "python",
   "nbconvert_exporter": "python",
   "pygments_lexer": "ipython3",
   "version": "3.7.4"
  }
 },
 "nbformat": 4,
 "nbformat_minor": 2
}
